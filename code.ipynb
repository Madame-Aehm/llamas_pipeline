{
 "cells": [
  {
   "cell_type": "code",
   "execution_count": null,
   "metadata": {},
   "outputs": [],
   "source": [
    "from dotenv import load_dotenv\n",
    "import os\n",
    "load_dotenv()\n",
    "\n",
    "dbconn = os.getenv(\"DBCONN\")"
   ]
  },
  {
   "cell_type": "code",
   "execution_count": null,
   "metadata": {},
   "outputs": [],
   "source": [
    "import psycopg"
   ]
  },
  {
   "cell_type": "code",
   "execution_count": null,
   "metadata": {},
   "outputs": [],
   "source": [
    "# establish database connection using connection string from .env\n",
    "conn = psycopg.connect(dbconn)\n",
    "\n",
    "# create a cursor\n",
    "cur = conn.cursor()"
   ]
  },
  {
   "cell_type": "code",
   "execution_count": null,
   "metadata": {},
   "outputs": [],
   "source": [
    "cur.execute('''\n",
    "    CREATE TABLE IF NOT EXISTS weather_data(\n",
    "        date TIMESTAMP,\n",
    "        city VARCHAR,\n",
    "        temp FLOAT,\n",
    "        feels FLOAT,\n",
    "        description VARCHAR,\n",
    "        PRIMARY KEY(date, city)\n",
    "    );\n",
    "''')"
   ]
  },
  {
   "cell_type": "code",
   "execution_count": null,
   "metadata": {},
   "outputs": [],
   "source": [
    "# commit to all executed queries\n",
    "conn.commit()"
   ]
  },
  {
   "cell_type": "code",
   "execution_count": null,
   "metadata": {},
   "outputs": [],
   "source": [
    "# close the cursor and sever connection\n",
    "cur.close()\n",
    "conn.close()"
   ]
  },
  {
   "cell_type": "code",
   "execution_count": null,
   "metadata": {},
   "outputs": [],
   "source": [
    "api_key = os.getenv(\"WEATHER_APIKEY\")"
   ]
  },
  {
   "cell_type": "code",
   "execution_count": null,
   "metadata": {},
   "outputs": [],
   "source": [
    "import requests\n",
    "import json # this is just to make the print statement more readable\n",
    "\n",
    "endpoint = f\"http://api.openweathermap.org/data/2.5/weather?units=metric&appid={api_key}&q=london\"\n",
    "\n",
    "response = requests.get(endpoint)\n",
    "response_json = response.json()\n",
    "print(json.dumps(response_json, indent=4))"
   ]
  },
  {
   "cell_type": "code",
   "execution_count": null,
   "metadata": {},
   "outputs": [],
   "source": [
    "import datetime as dt\n",
    "\n",
    "if response.status_code == 200:\n",
    "  weather_date = response_json[\"dt\"]\n",
    "  weather_city = response_json[\"name\"]\n",
    "  weather_temp = response_json[\"main\"][\"temp\"]\n",
    "  weather_feels = response_json[\"main\"][\"feels_like\"]\n",
    "  weather_description = response_json[\"weather\"][0][\"description\"]\n",
    "\n",
    "  print(weather_date, weather_city, weather_temp, weather_feels, weather_description)\n"
   ]
  },
  {
   "cell_type": "code",
   "execution_count": null,
   "metadata": {},
   "outputs": [],
   "source": [
    "weather_date = dt.datetime.fromtimestamp(weather_date)\n",
    "weather_date"
   ]
  },
  {
   "cell_type": "code",
   "execution_count": null,
   "metadata": {},
   "outputs": [],
   "source": [
    "cur.execute(\n",
    "  '''\n",
    "    INSERT INTO weather_data(date, city, temp, feels, description)\n",
    "    VALUES (%s, %s, %s, %s, %s);\n",
    "  ''', \n",
    "  (weather_date, weather_city, weather_temp, weather_feels, weather_description)\n",
    ")"
   ]
  }
 ],
 "metadata": {
  "kernelspec": {
   "display_name": "CAB_Module3",
   "language": "python",
   "name": "python3"
  },
  "language_info": {
   "codemirror_mode": {
    "name": "ipython",
    "version": 3
   },
   "file_extension": ".py",
   "mimetype": "text/x-python",
   "name": "python",
   "nbconvert_exporter": "python",
   "pygments_lexer": "ipython3",
   "version": "3.12.8"
  }
 },
 "nbformat": 4,
 "nbformat_minor": 2
}
